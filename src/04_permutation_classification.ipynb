{
 "cells": [
  {
   "cell_type": "code",
   "execution_count": null,
   "metadata": {},
   "outputs": [],
   "source": [
    "from sklearn.naive_bayes import GaussianNB\n",
    "from nilearn.input_data import NiftiMasker"
   ]
  },
  {
   "cell_type": "code",
   "execution_count": null,
   "metadata": {},
   "outputs": [],
   "source": [
    "\n",
    "masker = NiftiMasker(mask_img=process_mask2_img, standardize=False)\n",
    "\n",
    "# We use masker to retrieve a 2D array ready\n",
    "# for machine learning with scikit-learn\n",
    "fmri_masked = masker.fit_transform(fmri_img_test)\n",
    "#Print size of matrix (images x voxels)\n",
    "print(fmri_masked.shape)\n",
    "\n",
    "from sklearn.model_selection import permutation_test_score\n",
    "score_cv_test, scores_perm, pvalue= permutation_test_score(\n",
    "    GaussianNB(), fmri_masked, conditions_test, cv=10, n_permutations=1000, \n",
    "    n_jobs=-1, random_state=0, verbose=0, scoring=None)\n",
    "print(\"Classification Accuracy: %s (pvalue : %s)\" % (score_cv_test, pvalue))"
   ]
  },
  {
   "cell_type": "code",
   "execution_count": null,
   "metadata": {},
   "outputs": [],
   "source": [
    "# Saving the objects:\n",
    "f = open('../data/04_perm_scores.pkl', 'wb')\n",
    "pickle.dump([score_cv_test, scores_perm, pvalue], f)\n",
    "f.close()"
   ]
  }
 ],
 "metadata": {
  "language_info": {
   "name": "python"
  }
 },
 "nbformat": 4,
 "nbformat_minor": 2
}
