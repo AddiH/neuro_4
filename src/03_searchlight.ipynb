{
 "cells": [
  {
   "cell_type": "code",
   "execution_count": 5,
   "metadata": {},
   "outputs": [],
   "source": [
    "import pandas as pd\n",
    "import numpy as np\n",
    "from nilearn.image import new_img_like, load_img\n",
    "from nilearn.plotting import plot_stat_map, plot_img, show\n",
    "from nilearn import decoding\n",
    "from nilearn.decoding import SearchLight\n",
    "from sklearn import naive_bayes, model_selection \n",
    "from nilearn.decoding import SearchLight\n",
    "from sklearn.svm import LinearSVC\n",
    "from sklearn.naive_bayes import GaussianNB\n",
    "import pickle"
   ]
  },
  {
   "cell_type": "code",
   "execution_count": 9,
   "metadata": {},
   "outputs": [],
   "source": [
    "# Saving the objects:\n",
    "f = open('../data/02_searchlight_prep.pkl', 'rb')\n",
    "fmri_img_train, fmri_img_test, idx_train,idx_test, conditions_train, conditions_test = pickle.load(f)\n",
    "f.close()"
   ]
  },
  {
   "cell_type": "code",
   "execution_count": 10,
   "metadata": {},
   "outputs": [
    {
     "name": "stderr",
     "output_type": "stream",
     "text": [
      "/tmp/ipykernel_12096/3772024103.py:12: UserWarning: Data array used to create a new image contains 64-bit ints. This is likely due to creating the array with numpy and passing `int` as the `dtype`. Many tools such as FSL and SPM cannot deal with int64 in Nifti images, so for compatibility the data has been converted to int32.\n",
      "  process_mask_img = new_img_like(mask_img, process_mask)\n"
     ]
    }
   ],
   "source": [
    "mask_wb_filename='../InSpePosNegData/BIDS_2023E/derivatives/sub-0118/anat/sub-0118_acq-T1sequence_run-1_space-MNI152NLin2009cAsym_desc-brain_mask.nii.gz'\n",
    "anat_filename='../InSpePosNegData/BIDS_2023E/derivatives/sub-0118/anat/sub-0118_acq-T1sequence_run-1_space-MNI152NLin2009cAsym_desc-preproc_T1w.nii.gz'\n",
    "#Load the whole brain mask\n",
    "mask_img = load_img(mask_wb_filename)\n",
    "\n",
    "## This bit can be used if you want to make a smaller select of the brain to study (e.g. to speed up analsysis)\n",
    "process_mask = mask_img.get_fdata().astype(int)\n",
    "#Set slices below x in the z-dimension to zero (in voxel space)\n",
    "process_mask[..., :10] = 0\n",
    "#Set slices above x in the z-dimension to zero (in voxel space)\n",
    "process_mask[..., 170:] = 0\n",
    "process_mask_img = new_img_like(mask_img, process_mask)\n",
    "\n",
    "\n",
    "#Plot the mask on an anatomical background\n",
    "#plot_img(process_mask_img, bg_img=anat_filename,#bg_img=mean_fmri,\n",
    "         #title=\"Mask\", display_mode=\"z\",cut_coords=[-60,-50,-30,-10,10,30,50,70,80],\n",
    "         #vmin=.40, cmap='jet', threshold=0.9, black_bg=True)\n"
   ]
  },
  {
   "cell_type": "code",
   "execution_count": null,
   "metadata": {},
   "outputs": [],
   "source": [
    "# The radius is the one of the Searchlight sphere that will scan the volume\n",
    "searchlight = SearchLight(\n",
    "    mask_img,\n",
    "    estimator=GaussianNB(),\n",
    "    process_mask_img=process_mask_img,\n",
    "    radius=5, n_jobs=-1,\n",
    "    verbose=10, cv=10)\n",
    "searchlight.fit(fmri_img_train, conditions_train)"
   ]
  },
  {
   "cell_type": "code",
   "execution_count": null,
   "metadata": {},
   "outputs": [],
   "source": [
    "# Saving the objects:\n",
    "f = open('../data/searchlight.pkl', 'wb')\n",
    "pickle.dump([searchlight, searchlight.scores_], f)\n",
    "f.close()"
   ]
  }
 ],
 "metadata": {
  "kernelspec": {
   "display_name": "neuro_env",
   "language": "python",
   "name": "neuro_env"
  },
  "language_info": {
   "codemirror_mode": {
    "name": "ipython",
    "version": 3
   },
   "file_extension": ".py",
   "mimetype": "text/x-python",
   "name": "python",
   "nbconvert_exporter": "python",
   "pygments_lexer": "ipython3",
   "version": "3.10.12"
  },
  "orig_nbformat": 4
 },
 "nbformat": 4,
 "nbformat_minor": 2
}
