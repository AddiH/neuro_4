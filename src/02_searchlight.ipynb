{
 "cells": [
  {
   "cell_type": "code",
   "execution_count": null,
   "metadata": {},
   "outputs": [],
   "source": [
    "now = datetime.now()\n",
    "print('Making a mask for analysis:',now.strftime(\"%H:%M:%S\"))\n",
    "# -------------------\n",
    "import pandas as pd\n",
    "import numpy as np\n",
    "from nilearn.image import new_img_like, load_img\n",
    "from nilearn.plotting import plot_stat_map, plot_img, show\n",
    "from nilearn import decoding\n",
    "from nilearn.decoding import SearchLight\n",
    "from sklearn import naive_bayes, model_selection #import GaussianNB\n",
    "\n",
    "#########################################################################\n",
    "#Make a mask with the whole brain\n",
    "\n",
    "mask_wb_filename='/work/816119/InSpePosNegData/BIDS_2023E/derivatives/sub-0116/anat/sub-0116_acq-T1sequence_run-1_space-MNI152NLin2009cAsym_desc-brain_mask.nii.gz'\n",
    "anat_filename='/work/816119/InSpePosNegData/BIDS_2023E/derivatives/sub-0116/anat/sub-0116_acq-T1sequence_run-1_space-MNI152NLin2009cAsym_desc-preproc_T1w.nii.gz'\n",
    "#Load the whole brain mask\n",
    "mask_img = load_img(mask_wb_filename)\n",
    "\n",
    "## This bit can be used if you want to make a smaller select of the brain to study (e.g. to speed up analsysis)\n",
    "# .astype() makes a copy.\n",
    "process_mask = mask_img.get_fdata().astype(int)\n",
    "#Set slices below x in the z-dimension to zero (in voxel space)\n",
    "process_mask[..., :10] = 0\n",
    "#Set slices above x in the z-dimension to zero (in voxel space)\n",
    "process_mask[..., 170:] = 0\n",
    "process_mask_img = new_img_like(mask_img, process_mask)\n",
    "\n",
    "\n",
    "#Plot the mask on an anatomical background\n",
    "plot_img(process_mask_img, bg_img=anat_filename,#bg_img=mean_fmri,\n",
    "         title=\"Mask\", display_mode=\"z\",cut_coords=[-60,-50,-30,-10,10,30,50,70,80],\n",
    "         vmin=.40, cmap='jet', threshold=0.9, black_bg=True)\n"
   ]
  },
  {
   "cell_type": "code",
   "execution_count": null,
   "metadata": {},
   "outputs": [],
   "source": [
    "now = datetime.now()\n",
    "print('Starting searchlight analysis:',now.strftime(\"%H:%M:%S\"))\n",
    "#n_jobs=-1 means that all CPUs will be used\n",
    "\n",
    "from nilearn.decoding import SearchLight\n",
    "from sklearn.svm import LinearSVC\n",
    "from sklearn.naive_bayes import GaussianNB\n",
    "\n",
    "# The radius is the one of the Searchlight sphere that will scan the volume\n",
    "searchlight = SearchLight(\n",
    "    mask_img,\n",
    "    estimator=GaussianNB(),\n",
    "    process_mask_img=process_mask_img,\n",
    "    radius=5, n_jobs=-1,\n",
    "    verbose=10, cv=10)\n",
    "searchlight.fit(fmri_img_train, conditions_train)\n",
    "\n",
    "now = datetime.now()\n",
    "print('Finishing searchlight analysis:',now.strftime(\"%H:%M:%S\"))"
   ]
  },
  {
   "cell_type": "code",
   "execution_count": null,
   "metadata": {},
   "outputs": [],
   "source": [
    "# Saving the objects:\n",
    "f = open('/work/MikkelWallentin#6287/InSpe_first_level_models_all_trials_searchlight.pkl', 'wb')\n",
    "pickle.dump([searchlight, searchlight.scores_], f)\n",
    "f.close()\n"
   ]
  },
  {
   "cell_type": "code",
   "execution_count": null,
   "metadata": {},
   "outputs": [],
   "source": [
    "from nilearn import image, plotting\n",
    "from nilearn.plotting import plot_glass_brain, plot_stat_map\n",
    "from nilearn.image import new_img_like, load_img\n",
    "mask_wb_filename='/work/816119/InSpePosNegData/BIDS_2023E/derivatives/sub-0116/anat/sub-0116_acq-T1sequence_run-1_space-MNI152NLin2009cAsym_desc-brain_mask.nii.gz'\n",
    "anat_filename='/work/816119/InSpePosNegData/BIDS_2023E/derivatives/sub-0116/anat/sub-0116_acq-T1sequence_run-1_space-MNI152NLin2009cAsym_desc-preproc_T1w.nii.gz'\n",
    "\n",
    "now = datetime.now()\n",
    "print('Plotting and saving searchlight output (threshold:0.6):',now.strftime(\"%H:%M:%S\"))\n",
    "\n",
    "#Create an image of the searchlight scores\n",
    "searchlight_img = new_img_like(anat_filename, searchlight.scores_)\n",
    "\n",
    "\n",
    "plot_glass_brain(searchlight_img, cmap='jet',colorbar=True, threshold=0.5,\n",
    "                          title='negative vs button (unthresholded)',\n",
    "                          plot_abs=False)\n",
    "\n",
    "fig=plotting.plot_glass_brain(searchlight_img,cmap='prism',colorbar=True,threshold=0.60,title='negative vs button (Acc>0.6')\n",
    "fig.savefig(\"/work/MikkelWallentin#6287/InSpe_neg_vs_but_searchlightNB_glass.png\", dpi=300)\n",
    "#plt.show()\n",
    "\n",
    "plot_stat_map(searchlight_img, cmap='jet',threshold=0.6, cut_coords=[-30,-20,-10,0,10,20,30],\n",
    "              display_mode='z',  black_bg=False,\n",
    "              title='pos vs neg (Acc>0.6)')\n",
    "plt.show()"
   ]
  }
 ],
 "metadata": {
  "language_info": {
   "name": "python"
  },
  "orig_nbformat": 4
 },
 "nbformat": 4,
 "nbformat_minor": 2
}
