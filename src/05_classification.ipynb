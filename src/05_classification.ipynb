{
 "cells": [
  {
   "cell_type": "code",
   "execution_count": null,
   "metadata": {},
   "outputs": [],
   "source": [
    "\n",
    "masker = NiftiMasker(mask_img=process_mask2_img, standardize=False)\n",
    "\n",
    "# We use masker to retrieve a 2D array ready\n",
    "# for machine learning with scikit-learn\n",
    "fmri_masked = masker.fit_transform(fmri_img_test)\n",
    "#Print size of matrix (images x voxels)\n",
    "print(fmri_masked.shape)\n",
    "\n",
    "from sklearn.model_selection import permutation_test_score\n",
    "score_cv_test, scores_perm, pvalue= permutation_test_score(\n",
    "    GaussianNB(), fmri_masked, conditions_test, cv=10, n_permutations=1000, \n",
    "    n_jobs=-1, random_state=0, verbose=0, scoring=None)\n",
    "print(\"Classification Accuracy: %s (pvalue : %s)\" % (score_cv_test, pvalue))\n",
    "\n"
   ]
  },
  {
   "cell_type": "code",
   "execution_count": null,
   "metadata": {},
   "outputs": [],
   "source": [
    "import pickle\n",
    "\n",
    "now = datetime.now()\n",
    "print('Saving permutation scores:',now.strftime(\"%H:%M:%S\"))\n",
    "#Save the permutation scores\n",
    "\n",
    "# Saving the objects:\n",
    "f = open('/work/MikkelWallentin#6287/InSpe_first_level_models_all_trials_searchlight_perms.pkl', 'wb')\n",
    "pickle.dump([score_cv_test, scores_perm, pvalue], f)\n",
    "f.close()\n",
    "\n",
    "# Getting back the objects:\n",
    "#f = open('/work/MikkelWallentin#6287/InSpe_first_level_models_all_trials_searchlight_perms.pkl', 'rb')\n",
    "#score_cv_test, scores_perm, pvalue = pickle.load(f)\n",
    "#f.close()\n",
    "\n"
   ]
  },
  {
   "cell_type": "code",
   "execution_count": null,
   "metadata": {},
   "outputs": [],
   "source": [
    "now = datetime.now()\n",
    "print('Plotting and saving permutation scores:',now.strftime(\"%H:%M:%S\"))\n",
    "\n",
    "import numpy as np\n",
    "import matplotlib.pyplot as plt\n",
    "#How many classes\n",
    "n_classes = np.unique(conditions_test).size\n",
    "\n",
    "plt.hist(scores_perm, 20, label='Permutation scores',\n",
    "         edgecolor='black')\n",
    "ylim = plt.ylim()\n",
    "plt.plot(2 * [score_cv_test], ylim, '--g', linewidth=3,\n",
    "         label='Classification Score'\n",
    "         ' (pvalue %s)' % pvalue)\n",
    "plt.plot(2 * [1. / n_classes], ylim, '--k', linewidth=3, label='Chance level')\n",
    "\n",
    "plt.ylim(ylim)\n",
    "plt.legend()\n",
    "plt.xlabel('Score')\n",
    "\n",
    "plt.savefig(\"/work/MikkelWallentin#6287/InSpe_neg_vs_pos_one_sub_perm.png\", dpi=300)\n",
    "plt.show()"
   ]
  }
 ],
 "metadata": {
  "language_info": {
   "name": "python"
  },
  "orig_nbformat": 4
 },
 "nbformat": 4,
 "nbformat_minor": 2
}
